{
 "cells": [
  {
   "cell_type": "markdown",
   "id": "6069d4b0-6883-4d18-a291-d840528e203f",
   "metadata": {},
   "source": [
    "В этом наборе данных содержится подробная информация о режиме занятий в тренажерном зале, физических характеристиках и показателях физической подготовки.Датасет был взят с сайта www.kaggle.com.\n",
    "В датасете есть числове и тестовые данные.\n",
    "В датасете представлены следующие атрибуты:\n",
    "Age - возраст клиента тренажерного зала.\n",
    "Gender - пол клиента тренажерного зала (мужской или женский).\n",
    "Weight (kg) - Вес клиента клуба в килограммах.\n",
    "Height (m) - Рост клиента клуба в метрах.\n",
    "Max_BPM: Максимальная частота сердечных сокращений (ударов в минуту) во время тренировок.\n",
    "Avg_BPM: Средняя частота сердечных сокращений во время тренировок.\n",
    "Resting_BPM: Частота сердечных сокращений в состоянии покоя перед тренировкой.\n",
    "Session_Duration (часы): Продолжительность каждой тренировки в часах.\n",
    "Calories_Burned: Общее количество калорий, сожженных во время каждой тренировки.\n",
    "Workout_Type (тип тренировки): Тип проведенной тренировки\n",
    "Fat_Percentage (процент жира): Процент жира в организме участника.\n",
    "Water_Intake (liters): Суточное потребление воды во время тренировок.\n",
    "Workout_Frequency (days/week): Количество тренировок в неделю.\n",
    "Experience_Level: Уровень опыта, от новичка (1) до эксперта (3).\n",
    "BMI: индекс массы тела, рассчитанный на основе роста и веса.\n",
    "\n"
   ]
  },
  {
   "cell_type": "code",
   "execution_count": 2,
   "id": "b9eeb87e-e060-4e5f-a43e-45c645ebbebd",
   "metadata": {},
   "outputs": [
    {
     "data": {
      "text/html": [
       "<div>\n",
       "<style scoped>\n",
       "    .dataframe tbody tr th:only-of-type {\n",
       "        vertical-align: middle;\n",
       "    }\n",
       "\n",
       "    .dataframe tbody tr th {\n",
       "        vertical-align: top;\n",
       "    }\n",
       "\n",
       "    .dataframe thead th {\n",
       "        text-align: right;\n",
       "    }\n",
       "</style>\n",
       "<table border=\"1\" class=\"dataframe\">\n",
       "  <thead>\n",
       "    <tr style=\"text-align: right;\">\n",
       "      <th></th>\n",
       "      <th>Age</th>\n",
       "      <th>Gender</th>\n",
       "      <th>Weight (kg)</th>\n",
       "      <th>Height (m)</th>\n",
       "      <th>Max_BPM</th>\n",
       "      <th>Avg_BPM</th>\n",
       "      <th>Resting_BPM</th>\n",
       "      <th>Session_Duration (hours)</th>\n",
       "      <th>Calories_Burned</th>\n",
       "      <th>Workout_Type</th>\n",
       "      <th>Fat_Percentage</th>\n",
       "      <th>Water_Intake (liters)</th>\n",
       "      <th>Workout_Frequency (days/week)</th>\n",
       "      <th>Experience_Level</th>\n",
       "      <th>BMI</th>\n",
       "    </tr>\n",
       "  </thead>\n",
       "  <tbody>\n",
       "    <tr>\n",
       "      <th>0</th>\n",
       "      <td>56</td>\n",
       "      <td>Male</td>\n",
       "      <td>88.3</td>\n",
       "      <td>1.71</td>\n",
       "      <td>180</td>\n",
       "      <td>157</td>\n",
       "      <td>60</td>\n",
       "      <td>1.69</td>\n",
       "      <td>1313.0</td>\n",
       "      <td>Yoga</td>\n",
       "      <td>12.6</td>\n",
       "      <td>3.5</td>\n",
       "      <td>4</td>\n",
       "      <td>3</td>\n",
       "      <td>30.20</td>\n",
       "    </tr>\n",
       "    <tr>\n",
       "      <th>1</th>\n",
       "      <td>46</td>\n",
       "      <td>Female</td>\n",
       "      <td>74.9</td>\n",
       "      <td>1.53</td>\n",
       "      <td>179</td>\n",
       "      <td>151</td>\n",
       "      <td>66</td>\n",
       "      <td>1.30</td>\n",
       "      <td>883.0</td>\n",
       "      <td>HIIT</td>\n",
       "      <td>33.9</td>\n",
       "      <td>2.1</td>\n",
       "      <td>4</td>\n",
       "      <td>2</td>\n",
       "      <td>32.00</td>\n",
       "    </tr>\n",
       "    <tr>\n",
       "      <th>2</th>\n",
       "      <td>32</td>\n",
       "      <td>Female</td>\n",
       "      <td>68.1</td>\n",
       "      <td>1.66</td>\n",
       "      <td>167</td>\n",
       "      <td>122</td>\n",
       "      <td>54</td>\n",
       "      <td>1.11</td>\n",
       "      <td>677.0</td>\n",
       "      <td>Cardio</td>\n",
       "      <td>33.4</td>\n",
       "      <td>2.3</td>\n",
       "      <td>4</td>\n",
       "      <td>2</td>\n",
       "      <td>24.71</td>\n",
       "    </tr>\n",
       "    <tr>\n",
       "      <th>3</th>\n",
       "      <td>25</td>\n",
       "      <td>Male</td>\n",
       "      <td>53.2</td>\n",
       "      <td>1.70</td>\n",
       "      <td>190</td>\n",
       "      <td>164</td>\n",
       "      <td>56</td>\n",
       "      <td>0.59</td>\n",
       "      <td>532.0</td>\n",
       "      <td>Strength</td>\n",
       "      <td>28.8</td>\n",
       "      <td>2.1</td>\n",
       "      <td>3</td>\n",
       "      <td>1</td>\n",
       "      <td>18.41</td>\n",
       "    </tr>\n",
       "    <tr>\n",
       "      <th>4</th>\n",
       "      <td>38</td>\n",
       "      <td>Male</td>\n",
       "      <td>46.1</td>\n",
       "      <td>1.79</td>\n",
       "      <td>188</td>\n",
       "      <td>158</td>\n",
       "      <td>68</td>\n",
       "      <td>0.64</td>\n",
       "      <td>556.0</td>\n",
       "      <td>Strength</td>\n",
       "      <td>29.2</td>\n",
       "      <td>2.8</td>\n",
       "      <td>3</td>\n",
       "      <td>1</td>\n",
       "      <td>14.39</td>\n",
       "    </tr>\n",
       "  </tbody>\n",
       "</table>\n",
       "</div>"
      ],
      "text/plain": [
       "   Age  Gender  Weight (kg)  Height (m)  Max_BPM  Avg_BPM  Resting_BPM  \\\n",
       "0   56    Male         88.3        1.71      180      157           60   \n",
       "1   46  Female         74.9        1.53      179      151           66   \n",
       "2   32  Female         68.1        1.66      167      122           54   \n",
       "3   25    Male         53.2        1.70      190      164           56   \n",
       "4   38    Male         46.1        1.79      188      158           68   \n",
       "\n",
       "   Session_Duration (hours)  Calories_Burned Workout_Type  Fat_Percentage  \\\n",
       "0                      1.69           1313.0         Yoga            12.6   \n",
       "1                      1.30            883.0         HIIT            33.9   \n",
       "2                      1.11            677.0       Cardio            33.4   \n",
       "3                      0.59            532.0     Strength            28.8   \n",
       "4                      0.64            556.0     Strength            29.2   \n",
       "\n",
       "   Water_Intake (liters)  Workout_Frequency (days/week)  Experience_Level  \\\n",
       "0                    3.5                              4                 3   \n",
       "1                    2.1                              4                 2   \n",
       "2                    2.3                              4                 2   \n",
       "3                    2.1                              3                 1   \n",
       "4                    2.8                              3                 1   \n",
       "\n",
       "     BMI  \n",
       "0  30.20  \n",
       "1  32.00  \n",
       "2  24.71  \n",
       "3  18.41  \n",
       "4  14.39  "
      ]
     },
     "execution_count": 2,
     "metadata": {},
     "output_type": "execute_result"
    }
   ],
   "source": [
    "import pandas as pd\n",
    "import numpy as np\n",
    "import matplotlib.pyplot as plt\n",
    "df = pd.read_csv('gym.csv')\n",
    "df.head()"
   ]
  },
  {
   "cell_type": "code",
   "execution_count": 3,
   "id": "617d9ae9-4e5d-4f5c-9d3e-0a15b724bed0",
   "metadata": {},
   "outputs": [
    {
     "name": "stdout",
     "output_type": "stream",
     "text": [
      "<class 'pandas.core.frame.DataFrame'>\n",
      "RangeIndex: 973 entries, 0 to 972\n",
      "Data columns (total 15 columns):\n",
      " #   Column                         Non-Null Count  Dtype  \n",
      "---  ------                         --------------  -----  \n",
      " 0   Age                            973 non-null    int64  \n",
      " 1   Gender                         973 non-null    object \n",
      " 2   Weight (kg)                    973 non-null    float64\n",
      " 3   Height (m)                     973 non-null    float64\n",
      " 4   Max_BPM                        973 non-null    int64  \n",
      " 5   Avg_BPM                        973 non-null    int64  \n",
      " 6   Resting_BPM                    973 non-null    int64  \n",
      " 7   Session_Duration (hours)       973 non-null    float64\n",
      " 8   Calories_Burned                973 non-null    float64\n",
      " 9   Workout_Type                   973 non-null    object \n",
      " 10  Fat_Percentage                 973 non-null    float64\n",
      " 11  Water_Intake (liters)          973 non-null    float64\n",
      " 12  Workout_Frequency (days/week)  973 non-null    int64  \n",
      " 13  Experience_Level               973 non-null    int64  \n",
      " 14  BMI                            973 non-null    float64\n",
      "dtypes: float64(7), int64(6), object(2)\n",
      "memory usage: 114.2+ KB\n"
     ]
    }
   ],
   "source": [
    "df.info()"
   ]
  },
  {
   "cell_type": "code",
   "execution_count": 4,
   "id": "ec76a637-5fd6-4b62-a5aa-54371aafa698",
   "metadata": {},
   "outputs": [],
   "source": [
    "def findOutliers(arr, outliers):\n",
    "  sorted = np.sort(arr)\n",
    "  iqr = (np.ceil(75/100*len(sorted)))-(np.ceil(25/100*len(sorted)))\n",
    "\n",
    "  threshold1 = sorted[int(np.ceil(25/100*len(sorted)))]-1.5*sorted[int(iqr)]\n",
    "  threshold2 = sorted[int(np.ceil(75/100*len(sorted)))]+1.5*sorted[int(iqr)]\n",
    "\n",
    "  i = 0\n",
    "  while sorted[i] < threshold1:\n",
    "    outliers.append(sorted[i])\n",
    "    i += 1\n",
    "\n",
    "  i = -1\n",
    "  while threshold2 < sorted[i]:\n",
    "    outliers.append(sorted[i])\n",
    "    i -= 1\n",
    "\n",
    "  return outliers"
   ]
  },
  {
   "cell_type": "markdown",
   "id": "f3798e46-3b03-4de5-a4fc-f90bfecfaf98",
   "metadata": {},
   "source": [
    "Общий вес"
   ]
  },
  {
   "cell_type": "code",
   "execution_count": 6,
   "id": "5a741dd8-f947-4d34-93d4-2e760410a88d",
   "metadata": {},
   "outputs": [
    {
     "name": "stdout",
     "output_type": "stream",
     "text": [
      "Среднее значение: 73.85467625899281\n",
      "СКО:21.196599700720427\n",
      "Пропущенные значения: 0\n",
      "Выбросы: \n",
      "[]\n"
     ]
    },
    {
     "data": {
      "image/png": "[encoded data removed]",
      "text/plain": [
       "<Figure size 1000x500 with 1 Axes>"
      ]
     },
     "metadata": {},
     "output_type": "display_data"
    }
   ],
   "source": [
    "totalWeight = np.array(df['Weight (kg)'])\n",
    "totalWeightMean = totalWeight.mean()\n",
    "print('Среднее значение: ' + str(totalWeightMean))\n",
    "\n",
    "totalWeightSKO = np.std(totalWeight)\n",
    "print('СКО:' + str(totalWeightSKO))\n",
    "\n",
    "plt.figure(figsize=(10, 5))\n",
    "plt.hist(df['Weight (kg)'], bins=30);\n",
    "plt.grid(True)\n",
    "plt.title('Total Weight (kg) distribution')\n",
    "\n",
    "print('Пропущенные значения: ' + str(df['Weight (kg)'].isna().sum()))\n",
    "\n",
    "wOutliers = []\n",
    "\n",
    "print('Выбросы: ')\n",
    "print(findOutliers(totalWeight, wOutliers))"
   ]
  },
  {
   "cell_type": "markdown",
   "id": "e624b41a-d93e-446e-b089-ded90f422b62",
   "metadata": {},
   "source": [
    "Общий возраст"
   ]
  },
  {
   "cell_type": "code",
   "execution_count": 8,
   "id": "55b1b25b-ffb3-4548-ad7a-9dec9461fb1b",
   "metadata": {},
   "outputs": [
    {
     "name": "stdout",
     "output_type": "stream",
     "text": [
      "Среднее значение: 38.68345323741007\n",
      "СКО: 12.174666788255806\n",
      "Пропущенные значения: 0\n",
      "Выбросы: \n",
      "[]\n"
     ]
    },
    {
     "data": {
      "image/png": "[encoded data removed]",
      "text/plain": [
       "<Figure size 1000x500 with 1 Axes>"
      ]
     },
     "metadata": {},
     "output_type": "display_data"
    }
   ],
   "source": [
    "totalAge = np.array(df['Age'])\n",
    "totalAgeMean = totalAge.mean()\n",
    "print('Среднее значение: ' + str(totalAge.mean()))\n",
    "\n",
    "totalAgeSKO = np.std(totalAge)\n",
    "print('СКО: ' + str(totalAgeSKO))\n",
    "\n",
    "plt.figure(figsize=(10, 5))\n",
    "plt.hist(df['Age'], bins=30);\n",
    "plt.grid(True)\n",
    "plt.title('Average Age distribution')\n",
    "\n",
    "print('Пропущенные значения: ' + str(df['Age'].isna().sum()))\n",
    "\n",
    "ageOutliers = []\n",
    "\n",
    "print('Выбросы: ')\n",
    "print(findOutliers(totalAge, ageOutliers))"
   ]
  },
  {
   "cell_type": "markdown",
   "id": "13487440-09ad-462f-afa5-7bf4f3cf2608",
   "metadata": {},
   "source": [
    "общее время"
   ]
  },
  {
   "cell_type": "code",
   "execution_count": 10,
   "id": "16149768-a9ae-4cd1-92ee-9e9b1f7d8a79",
   "metadata": {},
   "outputs": [
    {
     "name": "stdout",
     "output_type": "stream",
     "text": [
      "Среднее значение: 1.2564234326824255\n",
      "СКО: 0.3428571588772144\n",
      "Пропущенные значения: 0\n",
      "Выбросы: \n",
      "[]\n"
     ]
    },
    {
     "data": {
      "image/png": "[encoded data removed]",
      "text/plain": [
       "<Figure size 1000x500 with 1 Axes>"
      ]
     },
     "metadata": {},
     "output_type": "display_data"
    }
   ],
   "source": [
    "totalTime = np.array(df['Session_Duration (hours)'])\n",
    "totalTimeMean = totalTime.mean()\n",
    "print('Среднее значение: ' + str(totalTime.mean()))\n",
    "\n",
    "totalTimeSKO = np.std(totalTime)\n",
    "print('СКО: ' + str(totalTimeSKO))\n",
    "\n",
    "plt.figure(figsize=(10, 5))\n",
    "plt.hist(df['Session_Duration (hours)'], bins=30);\n",
    "plt.grid(True)\n",
    "plt.title('Session Duration (hours) distribution')\n",
    "\n",
    "print('Пропущенные значения: ' + str(df['Session_Duration (hours)'].isna().sum()))\n",
    "\n",
    "timeOutliers = []\n",
    "\n",
    "print('Выбросы: ')\n",
    "print(findOutliers(totalTime, timeOutliers))"
   ]
  },
  {
   "cell_type": "code",
   "execution_count": 11,
   "id": "4671ea9c-fb03-483b-b04a-a13da8f9c96b",
   "metadata": {},
   "outputs": [
    {
     "ename": "SyntaxError",
     "evalue": "invalid syntax (4156868690.py, line 1)",
     "output_type": "error",
     "traceback": [
      "\u001b[1;36m  Cell \u001b[1;32mIn[11], line 1\u001b[1;36m\u001b[0m\n\u001b[1;33m    опыт посетителей Experience_Level\u001b[0m\n\u001b[1;37m         ^\u001b[0m\n\u001b[1;31mSyntaxError\u001b[0m\u001b[1;31m:\u001b[0m invalid syntax\n"
     ]
    }
   ],
   "source": [
    "опыт посетителей Experience_Level"
   ]
  },
  {
   "cell_type": "code",
   "execution_count": null,
   "id": "6818366d-5e0f-4a92-8405-fbcadf328ffd",
   "metadata": {},
   "outputs": [],
   "source": [
    "totalExp = np.array(df['Experience_Level'])\n",
    "totalExpMean = totalExp.mean()\n",
    "print('Среднее значение: ' + str(totalExp.mean()))\n",
    "\n",
    "totalExpSKO = np.std(totalExp)\n",
    "print('СКО: ' + str(totalExpSKO))\n",
    "\n",
    "plt.figure(figsize=(10, 5))\n",
    "plt.hist(df['Experience_Level'], bins=30);\n",
    "plt.grid(True)\n",
    "plt.title('Experience Level distribution')\n",
    "\n",
    "print('Пропущенные значения: ' + str(df['Experience_Level'].isna().sum()))\n",
    "\n",
    "ExpOutliers = []\n",
    "\n",
    "print('Выбросы: ')\n",
    "print(findOutliers(totalExp, ExpOutliers))\n"
   ]
  },
  {
   "cell_type": "markdown",
   "id": "5f58e1cd-e7ae-4da7-aef4-2748c59961f5",
   "metadata": {},
   "source": [
    "Количество соженных каллории Calories_Burned"
   ]
  },
  {
   "cell_type": "code",
   "execution_count": null,
   "id": "35a48cc7-8df8-48c1-a9eb-a89a57ab4721",
   "metadata": {},
   "outputs": [],
   "source": [
    "totalCal = np.array(df['Calories_Burned'])\n",
    "totalCalMean = totalCal.mean()\n",
    "print('Среднее значение: ' + str(totalCal.mean()))\n",
    "\n",
    "totalCalSKO = np.std(totalCal)\n",
    "print('СКО: ' + str(totalCalSKO))\n",
    "\n",
    "plt.figure(figsize=(10, 5))\n",
    "plt.hist(df['Calories_Burned'], bins=30);\n",
    "plt.grid(True)\n",
    "plt.title('Calories Burned distribution')\n",
    "\n",
    "print('Пропущенные значения: ' + str(df['Calories_Burned'].isna().sum()))\n",
    "\n",
    "CalOutliers = []\n",
    "\n",
    "print('Выбросы: ')\n",
    "print(findOutliers(totalCal, CalOutliers))"
   ]
  },
  {
   "cell_type": "markdown",
   "id": "bc0fcacf-c813-423a-85b7-9c3ecba8553d",
   "metadata": {},
   "source": [
    "Общий рост Height (m)  "
   ]
  },
  {
   "cell_type": "code",
   "execution_count": null,
   "id": "13d946c3-36c6-4c45-96f7-26b3a56651df",
   "metadata": {},
   "outputs": [],
   "source": [
    "totalHeight = np.array(df['Height (m)'])\n",
    "totalHeightMean = totalHeight.mean()\n",
    "print('Среднее значение: ' + str(totalHeight.mean()))\n",
    "\n",
    "totalHeightSKO = np.std(totalHeight)\n",
    "print('СКО: ' + str(totalHeightSKO))\n",
    "\n",
    "plt.figure(figsize=(10, 5))\n",
    "plt.hist(df['Height (m)'], bins=30);\n",
    "plt.grid(True)\n",
    "plt.title('Height (m) distribution')\n",
    "\n",
    "print('Пропущенные значения: ' + str(df['Height (m)'].isna().sum()))\n",
    "\n",
    "hOutliers = []\n",
    "\n",
    "print('Выбросы: ')\n",
    "print(findOutliers(totalHeight, hOutliers))"
   ]
  },
  {
   "cell_type": "markdown",
   "id": "914faa86-4a77-4269-8d6c-8b2bb00b78e4",
   "metadata": {},
   "source": [
    "Зависимость веса от роста"
   ]
  },
  {
   "cell_type": "code",
   "execution_count": null,
   "id": "e48ec967-6cc6-4b25-941f-77732af2ee55",
   "metadata": {},
   "outputs": [],
   "source": [
    "сoef1 = np.corrcoef(totalWeight, totalHeight)\n",
    "print('Матрица корелляции: ')\n",
    "print(сoef1)\n",
    "\n",
    "plt.figure(figsize=(10, 5));\n",
    "plt.scatter(df['Weight (kg)'], df['Height (m)']);\n",
    "plt.xlabel('Weight (kg)');\n",
    "plt.ylabel('Height (m)');\n",
    "plt.title('Dependence of Weight (kg) on Height (m)');"
   ]
  },
  {
   "cell_type": "markdown",
   "id": "59e1eccc-1cfb-4f3a-867c-0f4e3d437558",
   "metadata": {},
   "source": [
    "Зависимость веса от возраста"
   ]
  },
  {
   "cell_type": "code",
   "execution_count": null,
   "id": "16098cbc-f300-4241-a7f7-661712bb585d",
   "metadata": {},
   "outputs": [],
   "source": [
    "сoef2 = np.corrcoef(totalWeight, totalAge)\n",
    "print('Матрица корелляции: ')\n",
    "print(сoef2)\n",
    "\n",
    "plt.figure(figsize=(10, 5));\n",
    "plt.scatter(df['Weight (kg)'], df['Age']);\n",
    "plt.xlabel('Weight (kg)');\n",
    "plt.ylabel('Age');\n",
    "plt.title('Dependence of Weight (kg) on Age');"
   ]
  },
  {
   "cell_type": "markdown",
   "id": "22b0e10e-3927-4de7-b69c-4360891509b8",
   "metadata": {},
   "source": [
    "Зависимость опыта посетителей от возраста"
   ]
  },
  {
   "cell_type": "code",
   "execution_count": null,
   "id": "d80ed064-4e02-48b9-aad9-7a767f72da31",
   "metadata": {},
   "outputs": [],
   "source": [
    "сoef3 = np.corrcoef(totalExp, totalAge)\n",
    "print('Матрица корелляции: ')\n",
    "print(сoef3)\n",
    "\n",
    "plt.figure(figsize=(10, 5));\n",
    "plt.scatter(df['Experience_Level'], df['Age']);\n",
    "plt.xlabel('Experience Level');\n",
    "plt.ylabel('Age');\n",
    "plt.title('Dependence of Experience Level on Age');"
   ]
  },
  {
   "cell_type": "markdown",
   "id": "dbbbf594-9acf-4b6a-9b13-490d96b1bbc1",
   "metadata": {},
   "source": [
    "Зависимость времени от соженных каллории"
   ]
  },
  {
   "cell_type": "code",
   "execution_count": null,
   "id": "e42846ab-64ac-42ac-9226-464d8cc0f6ad",
   "metadata": {},
   "outputs": [],
   "source": [
    "сoef4 = np.corrcoef(totalTime, totalCal)\n",
    "print('Матрица корелляции: ')\n",
    "print(сoef4)\n",
    "\n",
    "plt.figure(figsize=(10, 5));\n",
    "plt.scatter(df['Session_Duration (hours)'], df['Calories_Burned']);\n",
    "plt.xlabel('Session Duration');\n",
    "plt.ylabel('Calories Burned');\n",
    "plt.title('Dependence of Session Duration on Calories Burned');"
   ]
  },
  {
   "cell_type": "markdown",
   "id": "95add996-afd4-4601-8feb-2ff294af0135",
   "metadata": {},
   "source": [
    "Зависимость времени от возроста"
   ]
  },
  {
   "cell_type": "code",
   "execution_count": null,
   "id": "e56be7a1-7af6-4d76-8cae-506372aa945c",
   "metadata": {},
   "outputs": [],
   "source": [
    "сoef5 = np.corrcoef(totalTime, totalAge)\n",
    "print('Матрица корелляции: ')\n",
    "print(сoef5)\n",
    "\n",
    "plt.figure(figsize=(10, 5));\n",
    "plt.scatter(df['Session_Duration (hours)'], df['Age']);\n",
    "plt.xlabel('Session Duration');\n",
    "plt.ylabel('Age');\n",
    "plt.title('Dependence of Session Duration on Age');"
   ]
  },
  {
   "cell_type": "code",
   "execution_count": null,
   "id": "e2df1036-4f36-46f0-a36a-9fff1fce8e4e",
   "metadata": {},
   "outputs": [],
   "source": []
  }
 ],
 "metadata": {
  "kernelspec": {
   "display_name": "Python [conda env:base] *",
   "language": "python",
   "name": "conda-base-py"
  },
  "language_info": {
   "codemirror_mode": {
    "name": "ipython",
    "version": 3
   },
   "file_extension": ".py",
   "mimetype": "text/x-python",
   "name": "python",
   "nbconvert_exporter": "python",
   "pygments_lexer": "ipython3",
   "version": "3.12.4"
  }
 },
 "nbformat": 4,
 "nbformat_minor": 5
}
